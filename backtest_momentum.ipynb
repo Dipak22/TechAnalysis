{
 "cells": [
  {
   "cell_type": "code",
   "execution_count": 1,
   "id": "3133f552-448e-4e95-8cb6-853455ce2472",
   "metadata": {},
   "outputs": [],
   "source": [
    "import yfinance as yf\n",
    "import pandas as pd\n",
    "import numpy as np\n",
    "from ta.momentum import RSIIndicator, ROCIndicator, StochasticOscillator\n",
    "from ta.trend import MACD, SMAIndicator, EMAIndicator, ADXIndicator, PSARIndicator\n",
    "from ta.volatility import BollingerBands, AverageTrueRange\n",
    "from ta.volume import VolumeWeightedAveragePrice, OnBalanceVolumeIndicator, AccDistIndexIndicator\n",
    "from datetime import datetime, timedelta\n",
    "from sector_mapping import sector_stocks  # Replace with your stock list\n",
    "from my_stocks import my_stocks\n",
    "\n",
    "import warnings\n",
    "warnings.simplefilter(action='ignore', category=FutureWarning)\n",
    "\n",
    "# Custom PSAR to avoid warnings\n",
    "class FixedPSARIndicator(PSARIndicator):\n",
    "    def __init__(self, high, low, close, step=0.02, max_step=0.2):\n",
    "        super().__init__(high=high, low=low, close=close, step=step, max_step=max_step)\n",
    "        \n",
    "    def _calc_psar(self):\n",
    "        psar = self._close.copy()\n",
    "        psar.iloc[:] = np.nan\n",
    "        \n",
    "        for i in range(2, len(self._close)):\n",
    "            if i == 2:\n",
    "                if self._close.iloc[i] > self._close.iloc[i-1]:\n",
    "                    trend = 1\n",
    "                    psar.iloc[i] = min(self._low.iloc[i-1], self._low.iloc[i-2])\n",
    "                else:\n",
    "                    trend = -1\n",
    "                    psar.iloc[i] = max(self._high.iloc[i-1], self._high.iloc[i-2])\n",
    "                continue\n",
    "                \n",
    "            # Rest of original logic with .iloc\n",
    "            prev_psar = psar.iloc[i-1]\n",
    "            if trend == 1:\n",
    "                psar.iloc[i] = prev_psar + self._step * (self._high.iloc[i-1] - prev_psar)\n",
    "                psar.iloc[i] = min(psar.iloc[i], self._low.iloc[i-1], self._low.iloc[i-2])\n",
    "            else:\n",
    "                psar.iloc[i] = prev_psar + self._step * (self._low.iloc[i-1] - prev_psar)\n",
    "                psar.iloc[i] = max(psar.iloc[i], self._high.iloc[i-1], self._high.iloc[i-2])\n",
    "            \n",
    "        return psar\n",
    "\n",
    "def calculate_signals(ticker, current_date, short_period=14, medium_period=26, long_period=50):\n",
    "    \"\"\"Calculate momentum, volume, and trend signals across three timeframes with PSAR\"\"\"\n",
    "    try:\n",
    "        # Download data - extended for long-term indicators\n",
    "        end_date = current_date\n",
    "        start_date = end_date - timedelta(days=long_period*3)\n",
    "        stock = yf.Ticker(ticker)\n",
    "        df = stock.history(start=start_date, end=end_date, interval='1d')\n",
    "        \n",
    "        if df.empty or len(df) < long_period:\n",
    "            return None\n",
    "\n",
    "        # Initialize indicators dictionary\n",
    "        indicators = {}\n",
    "        \n",
    "        # Short-term indicators (14 days)\n",
    "        indicators['short'] = {\n",
    "            'RSI': RSIIndicator(close=df['Close'], window=short_period).rsi(),\n",
    "            'ROC': ROCIndicator(close=df['Close'], window=short_period).roc(),\n",
    "            'Stoch_%K': StochasticOscillator(\n",
    "                high=df['High'],\n",
    "                low=df['Low'],\n",
    "                close=df['Close'],\n",
    "                window=short_period,\n",
    "                smooth_window=3\n",
    "            ).stoch(),\n",
    "            'SMA': SMAIndicator(close=df['Close'], window=short_period).sma_indicator(),\n",
    "            'EMA': EMAIndicator(close=df['Close'], window=short_period).ema_indicator(),\n",
    "            'ATR': AverageTrueRange(\n",
    "                high=df['High'],\n",
    "                low=df['Low'],\n",
    "                close=df['Close'],\n",
    "                window=short_period\n",
    "            ).average_true_range(),\n",
    "            'PSAR': FixedPSARIndicator(\n",
    "                high=df['High'],\n",
    "                low=df['Low'],\n",
    "                close=df['Close'],\n",
    "                step=0.02,  # Standard acceleration\n",
    "                max_step=0.2\n",
    "            ).psar()\n",
    "        }\n",
    "        \n",
    "        # Medium-term indicators (26 days)\n",
    "        indicators['medium'] = {\n",
    "            'RSI': RSIIndicator(close=df['Close'], window=medium_period).rsi(),\n",
    "            'ROC': ROCIndicator(close=df['Close'], window=medium_period).roc(),\n",
    "            'SMA': SMAIndicator(close=df['Close'], window=medium_period).sma_indicator(),\n",
    "            'EMA': EMAIndicator(close=df['Close'], window=medium_period).ema_indicator(),\n",
    "            'MACD': MACD(close=df['Close'], window_slow=26, window_fast=12, window_sign=9).macd(),\n",
    "            'MACD_diff': MACD(close=df['Close'], window_slow=26, window_fast=12, window_sign=9).macd_diff(),\n",
    "            'ADX': ADXIndicator(\n",
    "                high=df['High'],\n",
    "                low=df['Low'],\n",
    "                close=df['Close'],\n",
    "                window=medium_period\n",
    "            ).adx(),\n",
    "            'PSAR': FixedPSARIndicator(\n",
    "                high=df['High'],\n",
    "                low=df['Low'],\n",
    "                close=df['Close'],\n",
    "                step=0.015,  # Slightly slower\n",
    "                max_step=0.15\n",
    "            ).psar()\n",
    "        }\n",
    "        \n",
    "        # Long-term indicators (50 days)\n",
    "        indicators['long'] = {\n",
    "            'SMA': SMAIndicator(close=df['Close'], window=long_period).sma_indicator(),\n",
    "            'EMA': EMAIndicator(close=df['Close'], window=long_period).ema_indicator(),\n",
    "            'BB': BollingerBands(close=df['Close'], window=long_period, window_dev=2),\n",
    "            'VWAP': VolumeWeightedAveragePrice(\n",
    "                high=df['High'],\n",
    "                low=df['Low'],\n",
    "                close=df['Close'],\n",
    "                volume=df['Volume'],\n",
    "                window=long_period\n",
    "            ).volume_weighted_average_price(),\n",
    "            'PSAR': FixedPSARIndicator(\n",
    "                high=df['High'],\n",
    "                low=df['Low'],\n",
    "                close=df['Close'],\n",
    "                step=0.01,  # Slow acceleration for long-term\n",
    "                max_step=0.1\n",
    "            ).psar()\n",
    "        }\n",
    "        \n",
    "        # Volume indicators\n",
    "        volume_indicators = {\n",
    "            'OBV': OnBalanceVolumeIndicator(close=df['Close'], volume=df['Volume']).on_balance_volume(),\n",
    "            'ADI': AccDistIndexIndicator(\n",
    "                high=df['High'],\n",
    "                low=df['Low'],\n",
    "                close=df['Close'],\n",
    "                volume=df['Volume']\n",
    "            ).acc_dist_index(),\n",
    "            'Volume_MA': df['Volume'].rolling(20).mean(),\n",
    "            'Volume_Spike': df['Volume'] > (df['Volume'].rolling(20).mean() * 2)\n",
    "        }\n",
    "        \n",
    "        # Get latest values\n",
    "        latest = {\n",
    "            'price': df['Close'].iloc[-1],\n",
    "            'short': {k: v.iloc[-1] for k, v in indicators['short'].items()},\n",
    "            'medium': {k: v.iloc[-1] if not isinstance(v, dict) else {sk: sv.iloc[-1] for sk, sv in v.items()} \n",
    "                      for k, v in indicators['medium'].items()},\n",
    "            'long': {k: v.iloc[-1] if not hasattr(v, 'bollinger_hband') else {\n",
    "                'upper': v.bollinger_hband().iloc[-1],\n",
    "                'middle': v.bollinger_mavg().iloc[-1],\n",
    "                'lower': v.bollinger_lband().iloc[-1],\n",
    "                'percent': (df['Close'].iloc[-1] - v.bollinger_lband().iloc[-1]) / \n",
    "                          (v.bollinger_hband().iloc[-1] - v.bollinger_lband().iloc[-1])\n",
    "            } for k, v in indicators['long'].items()},\n",
    "            'volume': {k: v.iloc[-1] for k, v in volume_indicators.items()}\n",
    "        }\n",
    "        \n",
    "        # Previous values for trend analysis\n",
    "        prev = {\n",
    "            'short': {k: v.iloc[-2] for k, v in indicators['short'].items()},\n",
    "            'medium': {k: v.iloc[-2] if not isinstance(v, dict) else {sk: sv.iloc[-2] for sk, sv in v.items()} \n",
    "                     for k, v in indicators['medium'].items()},\n",
    "        }\n",
    "        \n",
    "        # Price changes\n",
    "        price_changes = {\n",
    "            'short': (latest['price'] - df['Close'].iloc[-short_period]) / df['Close'].iloc[-short_period] * 100,\n",
    "            'medium': (latest['price'] - df['Close'].iloc[-medium_period]) / df['Close'].iloc[-medium_period] * 100,\n",
    "            'long': (latest['price'] - df['Close'].iloc[-long_period]) / df['Close'].iloc[-long_period] * 100\n",
    "        }\n",
    "        \n",
    "        # Trend analysis with PSAR\n",
    "        trends = {\n",
    "            # Moving average trends\n",
    "            'short_term_up': latest['price'] > latest['short']['SMA'] > latest['short']['EMA'],\n",
    "            'medium_term_up': latest['price'] > latest['medium']['SMA'] > latest['medium']['EMA'],\n",
    "            'long_term_up': latest['price'] > latest['long']['SMA'] > latest['long']['EMA'],\n",
    "            'golden_cross': latest['short']['SMA'] > latest['medium']['SMA'] and prev['short']['SMA'] <= prev['medium']['SMA'],\n",
    "            'death_cross': latest['short']['SMA'] < latest['medium']['SMA'] and prev['short']['SMA'] >= prev['medium']['SMA'],\n",
    "            'macd_bullish': latest['medium']['MACD_diff'] > 0 and prev['medium']['MACD_diff'] <= 0,\n",
    "            'macd_bearish': latest['medium']['MACD_diff'] < 0 and prev['medium']['MACD_diff'] >= 0,\n",
    "            'adx_strength': latest['medium']['ADX'] > 25,\n",
    "            \n",
    "            # PSAR trends\n",
    "            'sar_short_bullish': latest['price'] > latest['short']['PSAR'],\n",
    "            'sar_medium_bullish': latest['price'] > latest['medium']['PSAR'],\n",
    "            'sar_long_bullish': latest['price'] > latest['long']['PSAR'],\n",
    "            'sar_short_bearish': latest['price'] < latest['short']['PSAR'],\n",
    "            'sar_medium_bearish': latest['price'] < latest['medium']['PSAR'],\n",
    "            'sar_long_bearish': latest['price'] < latest['long']['PSAR'],\n",
    "        }\n",
    "        \n",
    "        # Momentum signals\n",
    "        momentum = {\n",
    "            'rsi_short': latest['short']['RSI'],\n",
    "            'rsi_medium': latest['medium']['RSI'],\n",
    "            'stoch_overbought': latest['short']['Stoch_%K'] > 80,\n",
    "            'stoch_oversold': latest['short']['Stoch_%K'] < 20,\n",
    "            'roc_short': latest['short']['ROC'],\n",
    "            'roc_medium': latest['medium']['ROC'],\n",
    "            'bb_position': latest['long']['BB']['percent'],\n",
    "            'atr': latest['short']['ATR']\n",
    "        }\n",
    "        \n",
    "        # Volume signals\n",
    "        volume = {\n",
    "            'obv_trend': '↑' if latest['volume']['OBV'] > volume_indicators['OBV'].iloc[-2] else '↓',\n",
    "            'adi_trend': '↑' if latest['volume']['ADI'] > volume_indicators['ADI'].iloc[-2] else '↓',\n",
    "            'volume_spike': latest['volume']['Volume_Spike'],\n",
    "            'vwap_relation': 'above' if latest['price'] > latest['long']['VWAP'] else 'below'\n",
    "        }\n",
    "        \n",
    "        # Generate signal reasons\n",
    "        signal_reasons = []\n",
    "        \n",
    "        # Trend reasons\n",
    "        if trends['golden_cross']:\n",
    "            signal_reasons.append(\"Golden Cross (Short > Medium MA)\")\n",
    "        if trends['death_cross']:\n",
    "            signal_reasons.append(\"Death Cross (Short < Medium MA)\")\n",
    "        if trends['sar_short_bullish'] and trends['sar_medium_bullish'] and trends['sar_long_bullish']:\n",
    "            signal_reasons.append(\"PSAR Bullish (All Timeframes)\")\n",
    "        elif trends['sar_short_bullish'] or trends['sar_medium_bullish']:\n",
    "            signal_reasons.append(\"PSAR Bullish (Partial)\")\n",
    "        if trends['adx_strength']:\n",
    "            signal_reasons.append(\"Strong Trend (ADX > 25)\")\n",
    "            \n",
    "        # Momentum reasons\n",
    "        if momentum['rsi_short'] > 70:\n",
    "            signal_reasons.append(f\"Short-term RSI Overbought ({momentum['rsi_short']:.1f})\")\n",
    "        if momentum['rsi_short'] < 30:\n",
    "            signal_reasons.append(f\"Short-term RSI Oversold ({momentum['rsi_short']:.1f})\")\n",
    "        if momentum['stoch_overbought']:\n",
    "            signal_reasons.append(\"Stochastic Overbought\")\n",
    "        if momentum['stoch_oversold']:\n",
    "            signal_reasons.append(\"Stochastic Oversold\")\n",
    "        if momentum['bb_position'] > 0.8:\n",
    "            signal_reasons.append(f\"BB Upper Band ({momentum['bb_position']:.2%})\")\n",
    "        if momentum['bb_position'] < 0.2:\n",
    "            signal_reasons.append(f\"BB Lower Band ({momentum['bb_position']:.2%})\")\n",
    "            \n",
    "        # Volume reasons\n",
    "        if volume['volume_spike']:\n",
    "            signal_reasons.append(\"Volume Spike (2x MA)\")\n",
    "        if volume['obv_trend'] == '↑' and volume['volume_spike']:\n",
    "            signal_reasons.append(\"OBV Uptick with Volume\")\n",
    "        if volume['vwap_relation'] == 'above':\n",
    "            signal_reasons.append(\"Price Above VWAP\")\n",
    "            \n",
    "        # Price change reasons\n",
    "        if price_changes['short'] > 10:\n",
    "            signal_reasons.append(f\"Short-term Up {price_changes['short']:.1f}%\")\n",
    "        if price_changes['short'] < -5:\n",
    "            signal_reasons.append(f\"Short-term Down {abs(price_changes['short']):.1f}%\")\n",
    "        \n",
    "        # Generate composite score (0-100)\n",
    "        score = 50  # Neutral starting point\n",
    "        \n",
    "        # Trend factors (30%)\n",
    "        score += 5 if trends['short_term_up'] else -10\n",
    "        score += 5 if trends['medium_term_up'] else -5\n",
    "        score += 5 if trends['long_term_up'] else -3\n",
    "        score += 5 if trends['golden_cross'] else (-10 if trends['death_cross'] else 0)\n",
    "        score += 5 if trends['macd_bullish'] else (-5 if trends['macd_bearish'] else 0)\n",
    "        score += 5 if trends['adx_strength'] else 0\n",
    "        \n",
    "        # PSAR factors (15%)\n",
    "        score += 5 if trends['sar_short_bullish'] else -5\n",
    "        score += 5 if trends['sar_medium_bullish'] else -5\n",
    "        score += 5 if trends['sar_long_bullish'] else -5\n",
    "        \n",
    "        # Momentum factors (25%)\n",
    "        score += 5 * ((momentum['rsi_short'] - 50) / 10)  # Normalized RSI contribution\n",
    "        score += 5 if momentum['stoch_oversold'] else (-5 if momentum['stoch_overbought'] else 0)\n",
    "        score += 5 * (momentum['roc_short'] / 5)  # Normalized ROC contribution\n",
    "        score += 5 * (momentum['roc_medium'] / 3)  # Normalized ROC contribution\n",
    "        score += 5 * (momentum['bb_position'] - 0.5)  # BB position contribution\n",
    "        \n",
    "        # Volume factors (20%)\n",
    "        score += 10 if volume['obv_trend'] == '↑' else -10\n",
    "        score += 5 if volume['adi_trend'] == '↑' else -3\n",
    "        score += 5 if volume['volume_spike'] and volume['obv_trend'] == '↑' else (\n",
    "                 -5 if volume['volume_spike'] and volume['obv_trend'] == '↓' else 0)\n",
    "        score += 5 if volume['vwap_relation'] == 'above' else -3\n",
    "        \n",
    "        # Price action factors (10%)\n",
    "        score += 5 * (price_changes['short'] / 5)  # Normalized short-term change\n",
    "        score += 3 * (price_changes['medium'] / 3)  # Normalized medium-term change\n",
    "        score += 2 * (price_changes['long'] / 2)  # Normalized long-term change\n",
    "        \n",
    "        # Cap score between 0 and 100\n",
    "        score = max(0, min(100, score))\n",
    "        \n",
    "        # Generate trading signal\n",
    "        signal = \"HOLD\"\n",
    "        signal_strength = \"\"\n",
    "        \n",
    "        # STRONG BUY: All PSAR timeframes bullish + high score\n",
    "        if (score > 80 and \n",
    "            trends['sar_short_bullish'] and \n",
    "            trends['sar_medium_bullish'] and \n",
    "            trends['sar_long_bullish'] and \n",
    "            volume['obv_trend'] == '↑'):\n",
    "            signal = \"STRONG BUY\"\n",
    "            signal_strength = \"(Multi-Timeframe PSAR Confirmed)\"\n",
    "        \n",
    "        # BUY: Partial PSAR confirmation\n",
    "        elif (score > 65 and \n",
    "              (trends['sar_short_bullish'] or trends['sar_medium_bullish']) and \n",
    "              volume['obv_trend'] == '↑'):\n",
    "            signal = \"BUY\"\n",
    "            signal_strength = \"(PSAR Bullish)\"\n",
    "            \n",
    "        # STRONG SELL: All PSAR timeframes bearish + low score\n",
    "        elif (score < 20 and \n",
    "              trends['sar_short_bearish'] and \n",
    "              trends['sar_medium_bearish'] and \n",
    "              trends['sar_long_bearish'] and \n",
    "              volume['obv_trend'] == '↓'):\n",
    "            signal = \"STRONG SELL\"\n",
    "            signal_strength = \"(Multi-Timeframe PSAR Confirmed)\"\n",
    "            \n",
    "        # SELL: Partial PSAR confirmation\n",
    "        elif (score < 35 and \n",
    "              (trends['sar_short_bearish'] or trends['sar_medium_bearish']) and \n",
    "              volume['obv_trend'] == '↓'):\n",
    "            signal = \"SELL\"\n",
    "            signal_strength = \"(PSAR Bearish)\"\n",
    "        \n",
    "        # Add reasons if not already included\n",
    "        if signal != \"HOLD\" and signal_reasons:\n",
    "            signal += f\" {signal_strength} [{', '.join(signal_reasons)}]\"\n",
    "        elif signal == \"HOLD\" and signal_reasons:\n",
    "            signal = f\"HOLD (Conflicting signals: {', '.join(signal_reasons)})\"\n",
    "            \n",
    "        # Prepare result dictionary\n",
    "        result = {\n",
    "            'Ticker': ticker,\n",
    "            'Price': f\"{latest['price']:.2f}\",\n",
    "            f'Change_{short_period}D': f\"{price_changes['short']:.1f}%\",\n",
    "            f'Change_{medium_period}D': f\"{price_changes['medium']:.1f}%\",\n",
    "            f'Change_{long_period}D': f\"{price_changes['long']:.1f}%\",\n",
    "            f'RSI_{short_period}': f\"{momentum['rsi_short']:.1f}\",\n",
    "            f'RSI_{medium_period}': f\"{momentum['rsi_medium']:.1f}\",\n",
    "            f'Stoch_%K_{short_period}': f\"{latest['short']['Stoch_%K']:.1f}\",\n",
    "            f'MACD_diff_{medium_period}': f\"{latest['medium']['MACD_diff']:.3f}\",\n",
    "            'BB_%': f\"{momentum['bb_position']:.2%}\",\n",
    "            f'SMA_{short_period}/{medium_period}/{long_period}': f\"{latest['short']['SMA']:.1f}/{latest['medium']['SMA']:.1f}/{latest['long']['SMA']:.1f}\",\n",
    "            f'PSAR_{short_period}': 'Bullish' if trends['sar_short_bullish'] else 'Bearish',\n",
    "            f'PSAR_{medium_period}': 'Bullish' if trends['sar_medium_bullish'] else 'Bearish',\n",
    "            f'PSAR_{long_period}': 'Bullish' if trends['sar_long_bullish'] else 'Bearish',\n",
    "            'Volume': f\"{df['Volume'].iloc[-1]/1e6:.1f}M\",\n",
    "            'Volume_Spike': 'Yes' if volume['volume_spike'] else 'No',\n",
    "            'OBV_Trend': volume['obv_trend'],\n",
    "            'VWAP_Relation': volume['vwap_relation'],\n",
    "            'Score': f\"{score:.1f}\",\n",
    "            'Signal': signal\n",
    "        }\n",
    "        \n",
    "        return result\n",
    "        \n",
    "    except Exception as e:\n",
    "        print(f\"Error processing {ticker}: {str(e)}\")\n",
    "        return None\n"
   ]
  },
  {
   "cell_type": "code",
   "execution_count": 13,
   "id": "e3646025-dce5-4063-9799-7cd8ce154747",
   "metadata": {},
   "outputs": [
    {
     "name": "stderr",
     "output_type": "stream",
     "text": [
      "$BAJAJINDEF.NS: possibly delisted; no price data found  (1d 2023-08-04 00:00:00 -> 2024-01-01 00:00:00) (Yahoo error = \"Data doesn't exist for startDate = 1691087400, endDate = 1704047400\")\n",
      "$MANCREDIT.NS: possibly delisted; no price data found  (1d 2023-08-04 00:00:00 -> 2024-01-01 00:00:00) (Yahoo error = \"Data doesn't exist for startDate = 1691087400, endDate = 1704047400\")\n"
     ]
    },
    {
     "name": "stdout",
     "output_type": "stream",
     "text": [
      "Testing for date 2024-01-01 00:00:00\n",
      "\n"
     ]
    },
    {
     "name": "stderr",
     "output_type": "stream",
     "text": [
      "$BAJAJINDEF.NS: possibly delisted; no price data found  (1d 2023-08-11 00:00:00 -> 2024-01-08 00:00:00) (Yahoo error = \"Data doesn't exist for startDate = 1691692200, endDate = 1704652200\")\n",
      "$MANCREDIT.NS: possibly delisted; no price data found  (1d 2023-08-11 00:00:00 -> 2024-01-08 00:00:00) (Yahoo error = \"Data doesn't exist for startDate = 1691692200, endDate = 1704652200\")\n"
     ]
    },
    {
     "name": "stdout",
     "output_type": "stream",
     "text": [
      "Testing for date 2024-01-08 00:00:00\n",
      "\n"
     ]
    },
    {
     "name": "stderr",
     "output_type": "stream",
     "text": [
      "$BAJAJINDEF.NS: possibly delisted; no price data found  (1d 2023-08-18 00:00:00 -> 2024-01-15 00:00:00) (Yahoo error = \"Data doesn't exist for startDate = 1692297000, endDate = 1705257000\")\n",
      "$MANCREDIT.NS: possibly delisted; no price data found  (1d 2023-08-18 00:00:00 -> 2024-01-15 00:00:00) (Yahoo error = \"Data doesn't exist for startDate = 1692297000, endDate = 1705257000\")\n"
     ]
    },
    {
     "name": "stdout",
     "output_type": "stream",
     "text": [
      "Testing for date 2024-01-15 00:00:00\n",
      "\n"
     ]
    },
    {
     "name": "stderr",
     "output_type": "stream",
     "text": [
      "$BAJAJINDEF.NS: possibly delisted; no price data found  (1d 2023-08-25 00:00:00 -> 2024-01-22 00:00:00) (Yahoo error = \"Data doesn't exist for startDate = 1692901800, endDate = 1705861800\")\n",
      "$MANCREDIT.NS: possibly delisted; no price data found  (1d 2023-08-25 00:00:00 -> 2024-01-22 00:00:00) (Yahoo error = \"Data doesn't exist for startDate = 1692901800, endDate = 1705861800\")\n"
     ]
    },
    {
     "name": "stdout",
     "output_type": "stream",
     "text": [
      "Testing for date 2024-01-22 00:00:00\n",
      "\n"
     ]
    },
    {
     "name": "stderr",
     "output_type": "stream",
     "text": [
      "$BAJAJINDEF.NS: possibly delisted; no price data found  (1d 2023-09-01 00:00:00 -> 2024-01-29 00:00:00) (Yahoo error = \"Data doesn't exist for startDate = 1693506600, endDate = 1706466600\")\n",
      "$MANCREDIT.NS: possibly delisted; no price data found  (1d 2023-09-01 00:00:00 -> 2024-01-29 00:00:00) (Yahoo error = \"Data doesn't exist for startDate = 1693506600, endDate = 1706466600\")\n"
     ]
    },
    {
     "name": "stdout",
     "output_type": "stream",
     "text": [
      "Testing for date 2024-01-29 00:00:00\n",
      "\n"
     ]
    },
    {
     "name": "stderr",
     "output_type": "stream",
     "text": [
      "$BAJAJINDEF.NS: possibly delisted; no price data found  (1d 2023-09-08 00:00:00 -> 2024-02-05 00:00:00) (Yahoo error = \"Data doesn't exist for startDate = 1694111400, endDate = 1707071400\")\n",
      "$MANCREDIT.NS: possibly delisted; no price data found  (1d 2023-09-08 00:00:00 -> 2024-02-05 00:00:00) (Yahoo error = \"Data doesn't exist for startDate = 1694111400, endDate = 1707071400\")\n"
     ]
    },
    {
     "name": "stdout",
     "output_type": "stream",
     "text": [
      "Testing for date 2024-02-05 00:00:00\n",
      "\n"
     ]
    },
    {
     "name": "stderr",
     "output_type": "stream",
     "text": [
      "$BAJAJINDEF.NS: possibly delisted; no price data found  (1d 2023-09-15 00:00:00 -> 2024-02-12 00:00:00) (Yahoo error = \"Data doesn't exist for startDate = 1694716200, endDate = 1707676200\")\n",
      "$MANCREDIT.NS: possibly delisted; no price data found  (1d 2023-09-15 00:00:00 -> 2024-02-12 00:00:00) (Yahoo error = \"Data doesn't exist for startDate = 1694716200, endDate = 1707676200\")\n"
     ]
    },
    {
     "name": "stdout",
     "output_type": "stream",
     "text": [
      "Testing for date 2024-02-12 00:00:00\n",
      "\n"
     ]
    },
    {
     "name": "stderr",
     "output_type": "stream",
     "text": [
      "$BAJAJINDEF.NS: possibly delisted; no price data found  (1d 2023-09-22 00:00:00 -> 2024-02-19 00:00:00) (Yahoo error = \"Data doesn't exist for startDate = 1695321000, endDate = 1708281000\")\n",
      "$MANCREDIT.NS: possibly delisted; no price data found  (1d 2023-09-22 00:00:00 -> 2024-02-19 00:00:00) (Yahoo error = \"Data doesn't exist for startDate = 1695321000, endDate = 1708281000\")\n"
     ]
    },
    {
     "name": "stdout",
     "output_type": "stream",
     "text": [
      "Testing for date 2024-02-19 00:00:00\n",
      "\n"
     ]
    },
    {
     "name": "stderr",
     "output_type": "stream",
     "text": [
      "$BAJAJINDEF.NS: possibly delisted; no price data found  (1d 2023-09-29 00:00:00 -> 2024-02-26 00:00:00) (Yahoo error = \"Data doesn't exist for startDate = 1695925800, endDate = 1708885800\")\n",
      "$MANCREDIT.NS: possibly delisted; no price data found  (1d 2023-09-29 00:00:00 -> 2024-02-26 00:00:00) (Yahoo error = \"Data doesn't exist for startDate = 1695925800, endDate = 1708885800\")\n"
     ]
    },
    {
     "name": "stdout",
     "output_type": "stream",
     "text": [
      "Testing for date 2024-02-26 00:00:00\n",
      "\n"
     ]
    },
    {
     "name": "stderr",
     "output_type": "stream",
     "text": [
      "$BAJAJINDEF.NS: possibly delisted; no price data found  (1d 2023-10-06 00:00:00 -> 2024-03-04 00:00:00) (Yahoo error = \"Data doesn't exist for startDate = 1696530600, endDate = 1709490600\")\n",
      "$MANCREDIT.NS: possibly delisted; no price data found  (1d 2023-10-06 00:00:00 -> 2024-03-04 00:00:00) (Yahoo error = \"Data doesn't exist for startDate = 1696530600, endDate = 1709490600\")\n"
     ]
    },
    {
     "name": "stdout",
     "output_type": "stream",
     "text": [
      "Testing for date 2024-03-04 00:00:00\n",
      "\n"
     ]
    },
    {
     "name": "stderr",
     "output_type": "stream",
     "text": [
      "$BAJAJINDEF.NS: possibly delisted; no price data found  (1d 2023-10-13 00:00:00 -> 2024-03-11 00:00:00) (Yahoo error = \"Data doesn't exist for startDate = 1697135400, endDate = 1710095400\")\n",
      "$MANCREDIT.NS: possibly delisted; no price data found  (1d 2023-10-13 00:00:00 -> 2024-03-11 00:00:00) (Yahoo error = \"Data doesn't exist for startDate = 1697135400, endDate = 1710095400\")\n"
     ]
    },
    {
     "name": "stdout",
     "output_type": "stream",
     "text": [
      "Testing for date 2024-03-11 00:00:00\n",
      "\n"
     ]
    },
    {
     "name": "stderr",
     "output_type": "stream",
     "text": [
      "$BAJAJINDEF.NS: possibly delisted; no price data found  (1d 2023-10-20 00:00:00 -> 2024-03-18 00:00:00) (Yahoo error = \"Data doesn't exist for startDate = 1697740200, endDate = 1710700200\")\n",
      "$MANCREDIT.NS: possibly delisted; no price data found  (1d 2023-10-20 00:00:00 -> 2024-03-18 00:00:00) (Yahoo error = \"Data doesn't exist for startDate = 1697740200, endDate = 1710700200\")\n"
     ]
    },
    {
     "name": "stdout",
     "output_type": "stream",
     "text": [
      "Testing for date 2024-03-18 00:00:00\n",
      "\n"
     ]
    },
    {
     "name": "stderr",
     "output_type": "stream",
     "text": [
      "$BAJAJINDEF.NS: possibly delisted; no price data found  (1d 2023-10-27 00:00:00 -> 2024-03-25 00:00:00) (Yahoo error = \"Data doesn't exist for startDate = 1698345000, endDate = 1711305000\")\n",
      "$MANCREDIT.NS: possibly delisted; no price data found  (1d 2023-10-27 00:00:00 -> 2024-03-25 00:00:00) (Yahoo error = \"Data doesn't exist for startDate = 1698345000, endDate = 1711305000\")\n"
     ]
    },
    {
     "name": "stdout",
     "output_type": "stream",
     "text": [
      "Testing for date 2024-03-25 00:00:00\n",
      "\n"
     ]
    },
    {
     "name": "stderr",
     "output_type": "stream",
     "text": [
      "$BAJAJINDEF.NS: possibly delisted; no price data found  (1d 2023-11-03 00:00:00 -> 2024-04-01 00:00:00) (Yahoo error = \"Data doesn't exist for startDate = 1698949800, endDate = 1711909800\")\n",
      "$MANCREDIT.NS: possibly delisted; no price data found  (1d 2023-11-03 00:00:00 -> 2024-04-01 00:00:00) (Yahoo error = \"Data doesn't exist for startDate = 1698949800, endDate = 1711909800\")\n"
     ]
    },
    {
     "name": "stdout",
     "output_type": "stream",
     "text": [
      "Testing for date 2024-04-01 00:00:00\n",
      "\n"
     ]
    },
    {
     "name": "stderr",
     "output_type": "stream",
     "text": [
      "$BAJAJINDEF.NS: possibly delisted; no price data found  (1d 2023-11-10 00:00:00 -> 2024-04-08 00:00:00) (Yahoo error = \"Data doesn't exist for startDate = 1699554600, endDate = 1712514600\")\n",
      "$MANCREDIT.NS: possibly delisted; no price data found  (1d 2023-11-10 00:00:00 -> 2024-04-08 00:00:00) (Yahoo error = \"Data doesn't exist for startDate = 1699554600, endDate = 1712514600\")\n"
     ]
    },
    {
     "name": "stdout",
     "output_type": "stream",
     "text": [
      "Testing for date 2024-04-08 00:00:00\n",
      "\n"
     ]
    },
    {
     "name": "stderr",
     "output_type": "stream",
     "text": [
      "$BAJAJINDEF.NS: possibly delisted; no price data found  (1d 2023-11-17 00:00:00 -> 2024-04-15 00:00:00) (Yahoo error = \"Data doesn't exist for startDate = 1700159400, endDate = 1713119400\")\n",
      "$MANCREDIT.NS: possibly delisted; no price data found  (1d 2023-11-17 00:00:00 -> 2024-04-15 00:00:00) (Yahoo error = \"Data doesn't exist for startDate = 1700159400, endDate = 1713119400\")\n"
     ]
    },
    {
     "name": "stdout",
     "output_type": "stream",
     "text": [
      "Testing for date 2024-04-15 00:00:00\n",
      "\n"
     ]
    },
    {
     "name": "stderr",
     "output_type": "stream",
     "text": [
      "$BAJAJINDEF.NS: possibly delisted; no price data found  (1d 2023-11-24 00:00:00 -> 2024-04-22 00:00:00) (Yahoo error = \"Data doesn't exist for startDate = 1700764200, endDate = 1713724200\")\n",
      "$MANCREDIT.NS: possibly delisted; no price data found  (1d 2023-11-24 00:00:00 -> 2024-04-22 00:00:00) (Yahoo error = \"Data doesn't exist for startDate = 1700764200, endDate = 1713724200\")\n"
     ]
    },
    {
     "name": "stdout",
     "output_type": "stream",
     "text": [
      "Testing for date 2024-04-22 00:00:00\n",
      "\n"
     ]
    },
    {
     "name": "stderr",
     "output_type": "stream",
     "text": [
      "$BAJAJINDEF.NS: possibly delisted; no price data found  (1d 2023-12-01 00:00:00 -> 2024-04-29 00:00:00) (Yahoo error = \"Data doesn't exist for startDate = 1701369000, endDate = 1714329000\")\n",
      "$MANCREDIT.NS: possibly delisted; no price data found  (1d 2023-12-01 00:00:00 -> 2024-04-29 00:00:00) (Yahoo error = \"Data doesn't exist for startDate = 1701369000, endDate = 1714329000\")\n"
     ]
    },
    {
     "name": "stdout",
     "output_type": "stream",
     "text": [
      "Testing for date 2024-04-29 00:00:00\n",
      "\n"
     ]
    },
    {
     "name": "stderr",
     "output_type": "stream",
     "text": [
      "$BAJAJINDEF.NS: possibly delisted; no price data found  (1d 2023-12-08 00:00:00 -> 2024-05-06 00:00:00) (Yahoo error = \"Data doesn't exist for startDate = 1701973800, endDate = 1714933800\")\n",
      "$MANCREDIT.NS: possibly delisted; no price data found  (1d 2023-12-08 00:00:00 -> 2024-05-06 00:00:00) (Yahoo error = \"Data doesn't exist for startDate = 1701973800, endDate = 1714933800\")\n"
     ]
    },
    {
     "name": "stdout",
     "output_type": "stream",
     "text": [
      "Testing for date 2024-05-06 00:00:00\n",
      "\n"
     ]
    },
    {
     "name": "stderr",
     "output_type": "stream",
     "text": [
      "$BAJAJINDEF.NS: possibly delisted; no price data found  (1d 2023-12-15 00:00:00 -> 2024-05-13 00:00:00) (Yahoo error = \"Data doesn't exist for startDate = 1702578600, endDate = 1715538600\")\n",
      "$MANCREDIT.NS: possibly delisted; no price data found  (1d 2023-12-15 00:00:00 -> 2024-05-13 00:00:00) (Yahoo error = \"Data doesn't exist for startDate = 1702578600, endDate = 1715538600\")\n"
     ]
    },
    {
     "name": "stdout",
     "output_type": "stream",
     "text": [
      "Testing for date 2024-05-13 00:00:00\n",
      "\n"
     ]
    },
    {
     "name": "stderr",
     "output_type": "stream",
     "text": [
      "$BAJAJINDEF.NS: possibly delisted; no price data found  (1d 2023-12-22 00:00:00 -> 2024-05-20 00:00:00) (Yahoo error = \"Data doesn't exist for startDate = 1703183400, endDate = 1716143400\")\n",
      "$MANCREDIT.NS: possibly delisted; no price data found  (1d 2023-12-22 00:00:00 -> 2024-05-20 00:00:00) (Yahoo error = \"Data doesn't exist for startDate = 1703183400, endDate = 1716143400\")\n"
     ]
    },
    {
     "name": "stdout",
     "output_type": "stream",
     "text": [
      "Testing for date 2024-05-20 00:00:00\n",
      "\n"
     ]
    },
    {
     "name": "stderr",
     "output_type": "stream",
     "text": [
      "$BAJAJINDEF.NS: possibly delisted; no price data found  (1d 2023-12-29 00:00:00 -> 2024-05-27 00:00:00) (Yahoo error = \"Data doesn't exist for startDate = 1703788200, endDate = 1716748200\")\n",
      "$MANCREDIT.NS: possibly delisted; no price data found  (1d 2023-12-29 00:00:00 -> 2024-05-27 00:00:00) (Yahoo error = \"Data doesn't exist for startDate = 1703788200, endDate = 1716748200\")\n"
     ]
    },
    {
     "name": "stdout",
     "output_type": "stream",
     "text": [
      "Testing for date 2024-05-27 00:00:00\n",
      "\n"
     ]
    },
    {
     "name": "stderr",
     "output_type": "stream",
     "text": [
      "$BAJAJINDEF.NS: possibly delisted; no price data found  (1d 2024-01-05 00:00:00 -> 2024-06-03 00:00:00) (Yahoo error = \"Data doesn't exist for startDate = 1704393000, endDate = 1717353000\")\n",
      "$MANCREDIT.NS: possibly delisted; no price data found  (1d 2024-01-05 00:00:00 -> 2024-06-03 00:00:00) (Yahoo error = \"Data doesn't exist for startDate = 1704393000, endDate = 1717353000\")\n"
     ]
    },
    {
     "name": "stdout",
     "output_type": "stream",
     "text": [
      "Testing for date 2024-06-03 00:00:00\n",
      "\n"
     ]
    },
    {
     "name": "stderr",
     "output_type": "stream",
     "text": [
      "$BAJAJINDEF.NS: possibly delisted; no price data found  (1d 2024-01-12 00:00:00 -> 2024-06-10 00:00:00) (Yahoo error = \"Data doesn't exist for startDate = 1704997800, endDate = 1717957800\")\n",
      "$MANCREDIT.NS: possibly delisted; no price data found  (1d 2024-01-12 00:00:00 -> 2024-06-10 00:00:00) (Yahoo error = \"Data doesn't exist for startDate = 1704997800, endDate = 1717957800\")\n"
     ]
    },
    {
     "name": "stdout",
     "output_type": "stream",
     "text": [
      "Testing for date 2024-06-10 00:00:00\n",
      "\n"
     ]
    },
    {
     "name": "stderr",
     "output_type": "stream",
     "text": [
      "$BAJAJINDEF.NS: possibly delisted; no price data found  (1d 2024-01-19 00:00:00 -> 2024-06-17 00:00:00) (Yahoo error = \"Data doesn't exist for startDate = 1705602600, endDate = 1718562600\")\n",
      "$MANCREDIT.NS: possibly delisted; no price data found  (1d 2024-01-19 00:00:00 -> 2024-06-17 00:00:00) (Yahoo error = \"Data doesn't exist for startDate = 1705602600, endDate = 1718562600\")\n"
     ]
    },
    {
     "name": "stdout",
     "output_type": "stream",
     "text": [
      "Testing for date 2024-06-17 00:00:00\n",
      "\n"
     ]
    },
    {
     "name": "stderr",
     "output_type": "stream",
     "text": [
      "$BAJAJINDEF.NS: possibly delisted; no price data found  (1d 2024-01-26 00:00:00 -> 2024-06-24 00:00:00) (Yahoo error = \"Data doesn't exist for startDate = 1706207400, endDate = 1719167400\")\n",
      "$MANCREDIT.NS: possibly delisted; no price data found  (1d 2024-01-26 00:00:00 -> 2024-06-24 00:00:00) (Yahoo error = \"Data doesn't exist for startDate = 1706207400, endDate = 1719167400\")\n"
     ]
    },
    {
     "name": "stdout",
     "output_type": "stream",
     "text": [
      "Testing for date 2024-06-24 00:00:00\n",
      "\n"
     ]
    },
    {
     "name": "stderr",
     "output_type": "stream",
     "text": [
      "$BAJAJINDEF.NS: possibly delisted; no price data found  (1d 2024-02-02 00:00:00 -> 2024-07-01 00:00:00) (Yahoo error = \"Data doesn't exist for startDate = 1706812200, endDate = 1719772200\")\n",
      "$MANCREDIT.NS: possibly delisted; no price data found  (1d 2024-02-02 00:00:00 -> 2024-07-01 00:00:00) (Yahoo error = \"Data doesn't exist for startDate = 1706812200, endDate = 1719772200\")\n"
     ]
    },
    {
     "name": "stdout",
     "output_type": "stream",
     "text": [
      "Testing for date 2024-07-01 00:00:00\n",
      "\n"
     ]
    },
    {
     "name": "stderr",
     "output_type": "stream",
     "text": [
      "$BAJAJINDEF.NS: possibly delisted; no price data found  (1d 2024-02-09 00:00:00 -> 2024-07-08 00:00:00) (Yahoo error = \"Data doesn't exist for startDate = 1707417000, endDate = 1720377000\")\n",
      "$MANCREDIT.NS: possibly delisted; no price data found  (1d 2024-02-09 00:00:00 -> 2024-07-08 00:00:00) (Yahoo error = \"Data doesn't exist for startDate = 1707417000, endDate = 1720377000\")\n"
     ]
    },
    {
     "name": "stdout",
     "output_type": "stream",
     "text": [
      "Testing for date 2024-07-08 00:00:00\n",
      "\n"
     ]
    },
    {
     "name": "stderr",
     "output_type": "stream",
     "text": [
      "$BAJAJINDEF.NS: possibly delisted; no price data found  (1d 2024-02-16 00:00:00 -> 2024-07-15 00:00:00) (Yahoo error = \"Data doesn't exist for startDate = 1708021800, endDate = 1720981800\")\n",
      "$MANCREDIT.NS: possibly delisted; no price data found  (1d 2024-02-16 00:00:00 -> 2024-07-15 00:00:00) (Yahoo error = \"Data doesn't exist for startDate = 1708021800, endDate = 1720981800\")\n"
     ]
    },
    {
     "name": "stdout",
     "output_type": "stream",
     "text": [
      "Testing for date 2024-07-15 00:00:00\n",
      "\n"
     ]
    },
    {
     "name": "stderr",
     "output_type": "stream",
     "text": [
      "$BAJAJINDEF.NS: possibly delisted; no price data found  (1d 2024-02-23 00:00:00 -> 2024-07-22 00:00:00) (Yahoo error = \"Data doesn't exist for startDate = 1708626600, endDate = 1721586600\")\n",
      "$MANCREDIT.NS: possibly delisted; no price data found  (1d 2024-02-23 00:00:00 -> 2024-07-22 00:00:00) (Yahoo error = \"Data doesn't exist for startDate = 1708626600, endDate = 1721586600\")\n"
     ]
    },
    {
     "name": "stdout",
     "output_type": "stream",
     "text": [
      "Testing for date 2024-07-22 00:00:00\n",
      "\n"
     ]
    },
    {
     "name": "stderr",
     "output_type": "stream",
     "text": [
      "$BAJAJINDEF.NS: possibly delisted; no price data found  (1d 2024-03-01 00:00:00 -> 2024-07-29 00:00:00) (Yahoo error = \"Data doesn't exist for startDate = 1709231400, endDate = 1722191400\")\n",
      "$MANCREDIT.NS: possibly delisted; no price data found  (1d 2024-03-01 00:00:00 -> 2024-07-29 00:00:00) (Yahoo error = \"Data doesn't exist for startDate = 1709231400, endDate = 1722191400\")\n"
     ]
    },
    {
     "name": "stdout",
     "output_type": "stream",
     "text": [
      "Testing for date 2024-07-29 00:00:00\n",
      "\n"
     ]
    },
    {
     "name": "stderr",
     "output_type": "stream",
     "text": [
      "$BAJAJINDEF.NS: possibly delisted; no price data found  (1d 2024-03-08 00:00:00 -> 2024-08-05 00:00:00) (Yahoo error = \"Data doesn't exist for startDate = 1709836200, endDate = 1722796200\")\n",
      "$MANCREDIT.NS: possibly delisted; no price data found  (1d 2024-03-08 00:00:00 -> 2024-08-05 00:00:00) (Yahoo error = \"Data doesn't exist for startDate = 1709836200, endDate = 1722796200\")\n"
     ]
    },
    {
     "name": "stdout",
     "output_type": "stream",
     "text": [
      "Testing for date 2024-08-05 00:00:00\n",
      "\n"
     ]
    },
    {
     "name": "stderr",
     "output_type": "stream",
     "text": [
      "$BAJAJINDEF.NS: possibly delisted; no price data found  (1d 2024-03-15 00:00:00 -> 2024-08-12 00:00:00) (Yahoo error = \"Data doesn't exist for startDate = 1710441000, endDate = 1723401000\")\n",
      "$MANCREDIT.NS: possibly delisted; no price data found  (1d 2024-03-15 00:00:00 -> 2024-08-12 00:00:00) (Yahoo error = \"Data doesn't exist for startDate = 1710441000, endDate = 1723401000\")\n"
     ]
    },
    {
     "name": "stdout",
     "output_type": "stream",
     "text": [
      "Testing for date 2024-08-12 00:00:00\n",
      "\n"
     ]
    },
    {
     "name": "stderr",
     "output_type": "stream",
     "text": [
      "$BAJAJINDEF.NS: possibly delisted; no price data found  (1d 2024-03-22 00:00:00 -> 2024-08-19 00:00:00) (Yahoo error = \"Data doesn't exist for startDate = 1711045800, endDate = 1724005800\")\n"
     ]
    },
    {
     "name": "stdout",
     "output_type": "stream",
     "text": [
      "Testing for date 2024-08-19 00:00:00\n",
      "\n"
     ]
    },
    {
     "name": "stderr",
     "output_type": "stream",
     "text": [
      "$BAJAJINDEF.NS: possibly delisted; no price data found  (1d 2024-03-29 00:00:00 -> 2024-08-26 00:00:00) (Yahoo error = \"Data doesn't exist for startDate = 1711650600, endDate = 1724610600\")\n"
     ]
    },
    {
     "name": "stdout",
     "output_type": "stream",
     "text": [
      "Testing for date 2024-08-26 00:00:00\n",
      "\n"
     ]
    },
    {
     "name": "stderr",
     "output_type": "stream",
     "text": [
      "$BAJAJINDEF.NS: possibly delisted; no price data found  (1d 2024-04-05 00:00:00 -> 2024-09-02 00:00:00) (Yahoo error = \"Data doesn't exist for startDate = 1712255400, endDate = 1725215400\")\n"
     ]
    },
    {
     "name": "stdout",
     "output_type": "stream",
     "text": [
      "Testing for date 2024-09-02 00:00:00\n",
      "\n"
     ]
    },
    {
     "name": "stderr",
     "output_type": "stream",
     "text": [
      "$BAJAJINDEF.NS: possibly delisted; no price data found  (1d 2024-04-12 00:00:00 -> 2024-09-09 00:00:00) (Yahoo error = \"Data doesn't exist for startDate = 1712860200, endDate = 1725820200\")\n"
     ]
    },
    {
     "name": "stdout",
     "output_type": "stream",
     "text": [
      "Testing for date 2024-09-09 00:00:00\n",
      "\n"
     ]
    },
    {
     "name": "stderr",
     "output_type": "stream",
     "text": [
      "$BAJAJINDEF.NS: possibly delisted; no price data found  (1d 2024-04-19 00:00:00 -> 2024-09-16 00:00:00) (Yahoo error = \"Data doesn't exist for startDate = 1713465000, endDate = 1726425000\")\n"
     ]
    },
    {
     "name": "stdout",
     "output_type": "stream",
     "text": [
      "Testing for date 2024-09-16 00:00:00\n",
      "\n"
     ]
    },
    {
     "name": "stderr",
     "output_type": "stream",
     "text": [
      "$BAJAJINDEF.NS: possibly delisted; no price data found  (1d 2024-04-26 00:00:00 -> 2024-09-23 00:00:00) (Yahoo error = \"Data doesn't exist for startDate = 1714069800, endDate = 1727029800\")\n"
     ]
    },
    {
     "name": "stdout",
     "output_type": "stream",
     "text": [
      "Testing for date 2024-09-23 00:00:00\n",
      "\n"
     ]
    },
    {
     "name": "stderr",
     "output_type": "stream",
     "text": [
      "$BAJAJINDEF.NS: possibly delisted; no price data found  (1d 2024-05-03 00:00:00 -> 2024-09-30 00:00:00) (Yahoo error = \"Data doesn't exist for startDate = 1714674600, endDate = 1727634600\")\n"
     ]
    },
    {
     "name": "stdout",
     "output_type": "stream",
     "text": [
      "Testing for date 2024-09-30 00:00:00\n",
      "\n"
     ]
    },
    {
     "name": "stderr",
     "output_type": "stream",
     "text": [
      "$BAJAJINDEF.NS: possibly delisted; no price data found  (1d 2024-05-10 00:00:00 -> 2024-10-07 00:00:00) (Yahoo error = \"Data doesn't exist for startDate = 1715279400, endDate = 1728239400\")\n"
     ]
    },
    {
     "name": "stdout",
     "output_type": "stream",
     "text": [
      "Testing for date 2024-10-07 00:00:00\n",
      "\n"
     ]
    },
    {
     "name": "stderr",
     "output_type": "stream",
     "text": [
      "$BAJAJINDEF.NS: possibly delisted; no price data found  (1d 2024-05-17 00:00:00 -> 2024-10-14 00:00:00) (Yahoo error = \"Data doesn't exist for startDate = 1715884200, endDate = 1728844200\")\n"
     ]
    },
    {
     "name": "stdout",
     "output_type": "stream",
     "text": [
      "Testing for date 2024-10-14 00:00:00\n",
      "\n"
     ]
    },
    {
     "name": "stderr",
     "output_type": "stream",
     "text": [
      "$BAJAJINDEF.NS: possibly delisted; no price data found  (1d 2024-05-24 00:00:00 -> 2024-10-21 00:00:00) (Yahoo error = \"Data doesn't exist for startDate = 1716489000, endDate = 1729449000\")\n"
     ]
    },
    {
     "name": "stdout",
     "output_type": "stream",
     "text": [
      "Testing for date 2024-10-21 00:00:00\n",
      "\n"
     ]
    },
    {
     "name": "stderr",
     "output_type": "stream",
     "text": [
      "$BAJAJINDEF.NS: possibly delisted; no price data found  (1d 2024-05-31 00:00:00 -> 2024-10-28 00:00:00) (Yahoo error = \"Data doesn't exist for startDate = 1717093800, endDate = 1730053800\")\n"
     ]
    },
    {
     "name": "stdout",
     "output_type": "stream",
     "text": [
      "Error processing MANCREDIT.NS: index 26 is out of bounds for axis 0 with size 25\n",
      "Testing for date 2024-10-28 00:00:00\n",
      "\n"
     ]
    },
    {
     "name": "stderr",
     "output_type": "stream",
     "text": [
      "$BAJAJINDEF.NS: possibly delisted; no price data found  (1d 2024-06-07 00:00:00 -> 2024-11-04 00:00:00) (Yahoo error = \"Data doesn't exist for startDate = 1717698600, endDate = 1730658600\")\n"
     ]
    },
    {
     "name": "stdout",
     "output_type": "stream",
     "text": [
      "Testing for date 2024-11-04 00:00:00\n",
      "\n"
     ]
    },
    {
     "name": "stderr",
     "output_type": "stream",
     "text": [
      "$BAJAJINDEF.NS: possibly delisted; no price data found  (1d 2024-06-14 00:00:00 -> 2024-11-11 00:00:00) (Yahoo error = \"Data doesn't exist for startDate = 1718303400, endDate = 1731263400\")\n"
     ]
    },
    {
     "name": "stdout",
     "output_type": "stream",
     "text": [
      "Testing for date 2024-11-11 00:00:00\n",
      "\n"
     ]
    },
    {
     "name": "stderr",
     "output_type": "stream",
     "text": [
      "$BAJAJINDEF.NS: possibly delisted; no price data found  (1d 2024-06-21 00:00:00 -> 2024-11-18 00:00:00) (Yahoo error = \"Data doesn't exist for startDate = 1718908200, endDate = 1731868200\")\n"
     ]
    },
    {
     "name": "stdout",
     "output_type": "stream",
     "text": [
      "Testing for date 2024-11-18 00:00:00\n",
      "\n"
     ]
    },
    {
     "name": "stderr",
     "output_type": "stream",
     "text": [
      "$BAJAJINDEF.NS: possibly delisted; no price data found  (1d 2024-06-28 00:00:00 -> 2024-11-25 00:00:00) (Yahoo error = \"Data doesn't exist for startDate = 1719513000, endDate = 1732473000\")\n"
     ]
    },
    {
     "name": "stdout",
     "output_type": "stream",
     "text": [
      "Testing for date 2024-11-25 00:00:00\n",
      "\n"
     ]
    },
    {
     "name": "stderr",
     "output_type": "stream",
     "text": [
      "$BAJAJINDEF.NS: possibly delisted; no price data found  (1d 2024-07-05 00:00:00 -> 2024-12-02 00:00:00) (Yahoo error = \"Data doesn't exist for startDate = 1720117800, endDate = 1733077800\")\n"
     ]
    },
    {
     "name": "stdout",
     "output_type": "stream",
     "text": [
      "Testing for date 2024-12-02 00:00:00\n",
      "\n"
     ]
    },
    {
     "name": "stderr",
     "output_type": "stream",
     "text": [
      "$BAJAJINDEF.NS: possibly delisted; no price data found  (1d 2024-07-12 00:00:00 -> 2024-12-09 00:00:00) (Yahoo error = \"Data doesn't exist for startDate = 1720722600, endDate = 1733682600\")\n"
     ]
    },
    {
     "name": "stdout",
     "output_type": "stream",
     "text": [
      "Testing for date 2024-12-09 00:00:00\n",
      "\n"
     ]
    },
    {
     "name": "stderr",
     "output_type": "stream",
     "text": [
      "$BAJAJINDEF.NS: possibly delisted; no price data found  (1d 2024-07-19 00:00:00 -> 2024-12-16 00:00:00) (Yahoo error = \"Data doesn't exist for startDate = 1721327400, endDate = 1734287400\")\n"
     ]
    },
    {
     "name": "stdout",
     "output_type": "stream",
     "text": [
      "Testing for date 2024-12-16 00:00:00\n",
      "\n"
     ]
    },
    {
     "name": "stderr",
     "output_type": "stream",
     "text": [
      "$BAJAJINDEF.NS: possibly delisted; no price data found  (1d 2024-07-26 00:00:00 -> 2024-12-23 00:00:00) (Yahoo error = \"Data doesn't exist for startDate = 1721932200, endDate = 1734892200\")\n"
     ]
    },
    {
     "name": "stdout",
     "output_type": "stream",
     "text": [
      "Testing for date 2024-12-23 00:00:00\n",
      "\n"
     ]
    },
    {
     "name": "stderr",
     "output_type": "stream",
     "text": [
      "$BAJAJINDEF.NS: possibly delisted; no price data found  (1d 2024-08-02 00:00:00 -> 2024-12-30 00:00:00) (Yahoo error = \"Data doesn't exist for startDate = 1722537000, endDate = 1735497000\")\n"
     ]
    },
    {
     "name": "stdout",
     "output_type": "stream",
     "text": [
      "Testing for date 2024-12-30 00:00:00\n",
      "\n",
      "Backtest complete. Final portfolio value: $1,462,147.69\n",
      "Total return: 46.21%\n",
      "Max drawdown: 17.63%\n"
     ]
    }
   ],
   "source": [
    "import yfinance as yf\n",
    "import pandas as pd\n",
    "from datetime import datetime, timedelta\n",
    "import matplotlib.pyplot as plt\n",
    "\n",
    "class StrategyBacktester:\n",
    "    def __init__(self, capital=1_000_000, top_n=5):\n",
    "        self.capital = capital\n",
    "        self.top_n = top_n\n",
    "        self.portfolio = {'cash': capital, 'holdings': {}, 'history': []}\n",
    "        self.price_cache = {}  # Cache to store recent prices\n",
    "        \n",
    "    def run_backtest(self, start_date, end_date, stock_universe):\n",
    "        current_date = start_date\n",
    "        while current_date <= end_date:\n",
    "            if current_date.weekday() == 0:  # Run weekly on Mondays\n",
    "                self.run_weekly_rebalance(current_date, stock_universe)\n",
    "                print(f\"Testing for date {current_date}\")\n",
    "                print(f\"\")\n",
    "            current_date += timedelta(days=1)\n",
    "        \n",
    "        self.generate_report()\n",
    "    \n",
    "    def run_weekly_rebalance(self, current_date, stock_universe):\n",
    "        # Get signals for all stocks\n",
    "        signals = []\n",
    "        for ticker in stock_universe:\n",
    "            try:\n",
    "                signal = calculate_signals(ticker, current_date)\n",
    "                if signal:\n",
    "                    signals.append(signal)\n",
    "            except Exception as e:\n",
    "                print(f\"Error processing {ticker}: {str(e)}\")\n",
    "        \n",
    "        # Sort by score and pick top N\n",
    "        signals.sort(key=lambda x: float(x['Score']), reverse=True)\n",
    "        top_stocks = signals[:self.top_n]\n",
    "        \n",
    "        # Calculate position size\n",
    "        position_size = self.capital / len(top_stocks) if top_stocks else 0\n",
    "        \n",
    "        # Close positions not in top stocks\n",
    "        for ticker in list(self.portfolio['holdings'].keys()):\n",
    "            if ticker not in [s['Ticker'] for s in top_stocks]:\n",
    "                self.close_position(ticker, current_date)\n",
    "        \n",
    "        # Open new positions\n",
    "        for stock in top_stocks:\n",
    "            ticker = stock['Ticker']\n",
    "            current_price = float(stock['Price'])\n",
    "            \n",
    "            if ticker not in self.portfolio['holdings']:\n",
    "                if stock['Signal'].startswith(('BUY', 'STRONG BUY')):\n",
    "                    shares = position_size / current_price\n",
    "                    self.open_position(ticker, shares, current_price, current_date)\n",
    "            \n",
    "            # Handle existing positions\n",
    "            else:\n",
    "                if stock['Signal'].startswith(('SELL', 'STRONG SELL')):\n",
    "                    self.close_position(ticker, current_date)\n",
    "        \n",
    "        # Record portfolio snapshot\n",
    "        self.record_portfolio(current_date)\n",
    "    \n",
    "    def get_current_price(self, ticker, date):\n",
    "        \"\"\"Safe method to get current price with fallback\"\"\"\n",
    "        try:\n",
    "            # Check cache first\n",
    "            if ticker in self.price_cache and self.price_cache[ticker]['date'] == date:\n",
    "                return self.price_cache[ticker]['price']\n",
    "            \n",
    "            # Get fresh data\n",
    "            price_data = yf.Ticker(ticker).history(\n",
    "                start=date - timedelta(days=5),\n",
    "                end=date + timedelta(days=1))\n",
    "            \n",
    "            if not price_data.empty:\n",
    "                price = price_data['Close'].iloc[-1]\n",
    "                self.price_cache[ticker] = {'date': date, 'price': price}\n",
    "                return price\n",
    "            return None\n",
    "        except:\n",
    "            return None\n",
    "    \n",
    "    def open_position(self, ticker, shares, price, date):\n",
    "        cost = shares * price\n",
    "        if cost > self.portfolio['cash']:\n",
    "            shares = self.portfolio['cash'] / price\n",
    "            cost = shares * price\n",
    "        \n",
    "        self.portfolio['holdings'][ticker] = {\n",
    "            'shares': shares,\n",
    "            'entry_price': price,\n",
    "            'entry_date': date,\n",
    "            'last_price': price  # Initialize last known price\n",
    "        }\n",
    "        self.portfolio['cash'] -= cost\n",
    "    \n",
    "    def close_position(self, ticker, date):\n",
    "        if ticker in self.portfolio['holdings']:\n",
    "            position = self.portfolio['holdings'][ticker]\n",
    "            current_price = self.get_current_price(ticker, date)\n",
    "            \n",
    "            # Use last known price if current unavailable\n",
    "            if current_price is None:\n",
    "                current_price = position['last_price']\n",
    "                print(f\"Using last known price for {ticker} on {date}\")\n",
    "            \n",
    "            proceeds = position['shares'] * current_price\n",
    "            self.portfolio['cash'] += proceeds\n",
    "            del self.portfolio['holdings'][ticker]\n",
    "    \n",
    "    def record_portfolio(self, date):\n",
    "        total_value = self.portfolio['cash']\n",
    "        for ticker, position in self.portfolio['holdings'].items():\n",
    "            current_price = self.get_current_price(ticker, date)\n",
    "            \n",
    "            if current_price is None:\n",
    "                current_price = position['last_price']\n",
    "            else:\n",
    "                # Update last known price\n",
    "                self.portfolio['holdings'][ticker]['last_price'] = current_price\n",
    "            \n",
    "            total_value += position['shares'] * current_price\n",
    "        \n",
    "        self.portfolio['history'].append({\n",
    "            'date': date,\n",
    "            'value': total_value,\n",
    "            'holdings': {k: v['shares'] for k,v in self.portfolio['holdings'].items()}\n",
    "        })\n",
    "    \n",
    "    def generate_report(self):\n",
    "        # Create performance dataframe\n",
    "        df = pd.DataFrame(self.portfolio['history'])\n",
    "        df.set_index('date', inplace=True)\n",
    "        \n",
    "        # Calculate metrics\n",
    "        initial_value = self.capital\n",
    "        final_value = df['value'].iloc[-1]\n",
    "        total_return = (final_value - initial_value) / initial_value * 100\n",
    "        max_drawdown = (df['value'].cummax() - df['value']).max() / df['value'].cummax().max() * 100\n",
    "        \n",
    "        # Plot performance\n",
    "        plt.figure(figsize=(12, 6))\n",
    "        plt.plot(df.index, df['value'], label='Portfolio Value')\n",
    "        plt.title(f'Strategy Performance\\nTotal Return: {total_return:.2f}% | Max Drawdown: {max_drawdown:.2f}%')\n",
    "        plt.xlabel('Date')\n",
    "        plt.ylabel('Portfolio Value ($)')\n",
    "        plt.legend()\n",
    "        plt.grid()\n",
    "        plt.savefig('backtest_results_17_06.png')\n",
    "        plt.close()\n",
    "        \n",
    "        # Generate trade log\n",
    "        trade_log = []\n",
    "        for date, holdings in zip(df.index, df['holdings']):\n",
    "            for ticker in holdings:\n",
    "                if ticker in self.portfolio['holdings']:\n",
    "                    position = self.portfolio['holdings'][ticker]\n",
    "                    trade_log.append({\n",
    "                        'ticker': ticker,\n",
    "                        'entry_date': position['entry_date'],\n",
    "                        'exit_date': date,\n",
    "                        'return_pct': (position['last_price'] - position['entry_price']) / position['entry_price'] * 100\n",
    "                    })\n",
    "        \n",
    "        trade_df = pd.DataFrame(trade_log)\n",
    "        if not trade_df.empty:\n",
    "            trade_df.to_csv('trade_log_17_06.csv', index=False)\n",
    "        \n",
    "        print(f\"Backtest complete. Final portfolio value: ${final_value:,.2f}\")\n",
    "        print(f\"Total return: {total_return:.2f}%\")\n",
    "        print(f\"Max drawdown: {max_drawdown:.2f}%\")\n",
    "\n",
    "# Example usage\n",
    "if __name__ == \"__main__\":\n",
    "    # Configuration\n",
    "    start_date = datetime(2024, 1, 1)\n",
    "    end_date = datetime(2024, 12, 31)\n",
    "    stock_universe = [\"BAJAJINDEF.NS\",\"SCI.NS\",\"NRAIL.NS\",\"JUBLINGREA.NS\",\"GUJAPOLLO.NS\",\"DBREALTY.NS\",\"MANCREDIT.NS\",\"OSWALAGRO.NS\",\n",
    "                     \"NAZARA.NS\",\"GOODLUCK.NS\",\"INDOTHAI.NS\",\"KERNEX.NS\",\"DELPHIFX.NS\",\"KDDL.NS\",\"SUBROS.NS\"]\n",
    "    \n",
    "    # Run backtest\n",
    "    backtester = StrategyBacktester(capital=1_000_000, top_n=5)\n",
    "    backtester.run_backtest(start_date, end_date, stock_universe)"
   ]
  },
  {
   "cell_type": "code",
   "execution_count": 14,
   "id": "a3c89aaa-759d-4917-a5a7-bb9cbea72a2c",
   "metadata": {},
   "outputs": [
    {
     "name": "stdout",
     "output_type": "stream",
     "text": [
      "Backtest complete. Final portfolio value: $1,462,147.69\n",
      "Total return: 46.21%\n",
      "Max drawdown: 17.63%\n"
     ]
    }
   ],
   "source": [
    "backtester.generate_report()"
   ]
  },
  {
   "cell_type": "code",
   "execution_count": 9,
   "id": "1ba3edbb-1422-468b-a3c5-39018a2e4bf4",
   "metadata": {},
   "outputs": [],
   "source": [
    "df = pd.DataFrame(backtester.portfolio['history'])\n",
    "df.set_index('date', inplace=True)\n",
    "\n",
    "# Calculate metrics\n",
    "initial_value = backtester.capital\n",
    "final_value = df['value'].iloc[-1]\n",
    "total_return = (final_value - initial_value) / initial_value * 100\n",
    "max_drawdown = (df['value'].cummax() - df['value']).max() / df['value'].cummax().max() * 100\n",
    "\n",
    "# Plot performance\n",
    "plt.figure(figsize=(12, 6))\n",
    "plt.plot(df.index, df['value'], label='Portfolio Value')\n",
    "plt.title(f'Strategy Performance\\nTotal Return: {total_return:.2f}% | Max Drawdown: {max_drawdown:.2f}%')\n",
    "plt.xlabel('Date')\n",
    "plt.ylabel('Portfolio Value ($)')\n",
    "plt.legend()\n",
    "plt.grid()\n",
    "plt.savefig('backtest_results.png')\n",
    "plt.close()"
   ]
  },
  {
   "cell_type": "code",
   "execution_count": 12,
   "id": "5fc2e38c-dbea-478b-9c8f-766b8bf19f73",
   "metadata": {},
   "outputs": [
    {
     "data": {
      "text/html": [
       "<div>\n",
       "<style scoped>\n",
       "    .dataframe tbody tr th:only-of-type {\n",
       "        vertical-align: middle;\n",
       "    }\n",
       "\n",
       "    .dataframe tbody tr th {\n",
       "        vertical-align: top;\n",
       "    }\n",
       "\n",
       "    .dataframe thead th {\n",
       "        text-align: right;\n",
       "    }\n",
       "</style>\n",
       "<table border=\"1\" class=\"dataframe\">\n",
       "  <thead>\n",
       "    <tr style=\"text-align: right;\">\n",
       "      <th></th>\n",
       "      <th>value</th>\n",
       "      <th>holdings</th>\n",
       "    </tr>\n",
       "    <tr>\n",
       "      <th>date</th>\n",
       "      <th></th>\n",
       "      <th></th>\n",
       "    </tr>\n",
       "  </thead>\n",
       "  <tbody>\n",
       "    <tr>\n",
       "      <th>2023-01-02</th>\n",
       "      <td>1.000005e+06</td>\n",
       "      <td>{'JPM': 1590.4572564612326}</td>\n",
       "    </tr>\n",
       "    <tr>\n",
       "      <th>2023-01-09</th>\n",
       "      <td>1.003821e+06</td>\n",
       "      <td>{'JPM': 1590.4572564612326, 'META': 1545.47562...</td>\n",
       "    </tr>\n",
       "    <tr>\n",
       "      <th>2023-01-16</th>\n",
       "      <td>1.028453e+06</td>\n",
       "      <td>{'JPM': 1590.4572564612326, 'META': 1545.47562...</td>\n",
       "    </tr>\n",
       "    <tr>\n",
       "      <th>2023-01-23</th>\n",
       "      <td>1.060083e+06</td>\n",
       "      <td>{'META': 1545.4756201220926, 'V': 935.97903406...</td>\n",
       "    </tr>\n",
       "    <tr>\n",
       "      <th>2023-01-30</th>\n",
       "      <td>1.061273e+06</td>\n",
       "      <td>{'META': 1545.4756201220926, 'AMZN': 2038.3204...</td>\n",
       "    </tr>\n",
       "    <tr>\n",
       "      <th>2023-02-06</th>\n",
       "      <td>1.164035e+06</td>\n",
       "      <td>{'META': 1545.4756201220926, 'AMZN': 2038.3204...</td>\n",
       "    </tr>\n",
       "    <tr>\n",
       "      <th>2023-02-13</th>\n",
       "      <td>1.134493e+06</td>\n",
       "      <td>{'META': 1545.4756201220926, 'AAPL': 1388.3104...</td>\n",
       "    </tr>\n",
       "    <tr>\n",
       "      <th>2023-02-20</th>\n",
       "      <td>1.137027e+06</td>\n",
       "      <td>{'META': 1545.4756201220926, 'AAPL': 1388.3104...</td>\n",
       "    </tr>\n",
       "    <tr>\n",
       "      <th>2023-02-27</th>\n",
       "      <td>1.124706e+06</td>\n",
       "      <td>{'META': 1545.4756201220926, 'AAPL': 1388.3104...</td>\n",
       "    </tr>\n",
       "    <tr>\n",
       "      <th>2023-03-06</th>\n",
       "      <td>1.140001e+06</td>\n",
       "      <td>{'META': 1545.4756201220926, 'AAPL': 1388.3104...</td>\n",
       "    </tr>\n",
       "    <tr>\n",
       "      <th>2023-03-13</th>\n",
       "      <td>1.087729e+06</td>\n",
       "      <td>{'META': 1545.4756201220926, 'AAPL': 1388.3104...</td>\n",
       "    </tr>\n",
       "    <tr>\n",
       "      <th>2023-03-20</th>\n",
       "      <td>1.150873e+06</td>\n",
       "      <td>{'META': 1545.4756201220926, 'AAPL': 1388.3104...</td>\n",
       "    </tr>\n",
       "    <tr>\n",
       "      <th>2023-03-27</th>\n",
       "      <td>1.170277e+06</td>\n",
       "      <td>{'META': 1545.4756201220926, 'AAPL': 1388.3104...</td>\n",
       "    </tr>\n",
       "    <tr>\n",
       "      <th>2023-04-03</th>\n",
       "      <td>1.218523e+06</td>\n",
       "      <td>{'META': 1545.4756201220926, 'AAPL': 1388.3104...</td>\n",
       "    </tr>\n",
       "    <tr>\n",
       "      <th>2023-04-10</th>\n",
       "      <td>1.220488e+06</td>\n",
       "      <td>{'META': 1545.4756201220926, 'AAPL': 1388.3104...</td>\n",
       "    </tr>\n",
       "    <tr>\n",
       "      <th>2023-04-17</th>\n",
       "      <td>1.230849e+06</td>\n",
       "      <td>{'META': 1545.4756201220926, 'AAPL': 1388.3104...</td>\n",
       "    </tr>\n",
       "    <tr>\n",
       "      <th>2023-04-24</th>\n",
       "      <td>1.224843e+06</td>\n",
       "      <td>{'AAPL': 1388.3104262113009, 'AMZN': 1936.2958...</td>\n",
       "    </tr>\n",
       "    <tr>\n",
       "      <th>2023-05-01</th>\n",
       "      <td>1.236142e+06</td>\n",
       "      <td>{'AAPL': 1388.3104262113009, 'NVDA': 7380.0738...</td>\n",
       "    </tr>\n",
       "    <tr>\n",
       "      <th>2023-05-08</th>\n",
       "      <td>1.240859e+06</td>\n",
       "      <td>{'AAPL': 1388.3104262113009, 'NVDA': 7380.0738...</td>\n",
       "    </tr>\n",
       "    <tr>\n",
       "      <th>2023-05-15</th>\n",
       "      <td>1.259361e+06</td>\n",
       "      <td>{'NVDA': 7380.073800738007, 'MSFT': 662.471016...</td>\n",
       "    </tr>\n",
       "    <tr>\n",
       "      <th>2023-05-22</th>\n",
       "      <td>1.307398e+06</td>\n",
       "      <td>{'MSFT': 662.471016893011, 'META': 836.1553576...</td>\n",
       "    </tr>\n",
       "    <tr>\n",
       "      <th>2023-05-29</th>\n",
       "      <td>1.327031e+06</td>\n",
       "      <td>{'MSFT': 662.471016893011, 'META': 836.1553576...</td>\n",
       "    </tr>\n",
       "    <tr>\n",
       "      <th>2023-06-05</th>\n",
       "      <td>1.352443e+06</td>\n",
       "      <td>{'MSFT': 662.471016893011, 'META': 836.1553576...</td>\n",
       "    </tr>\n",
       "    <tr>\n",
       "      <th>2023-06-12</th>\n",
       "      <td>1.356564e+06</td>\n",
       "      <td>{'META': 836.1553576654543, 'GOOG': 1894.11876...</td>\n",
       "    </tr>\n",
       "    <tr>\n",
       "      <th>2023-06-19</th>\n",
       "      <td>1.372535e+06</td>\n",
       "      <td>{'META': 836.1553576654543, 'AMZN': 1665.14028...</td>\n",
       "    </tr>\n",
       "    <tr>\n",
       "      <th>2023-06-26</th>\n",
       "      <td>1.347894e+06</td>\n",
       "      <td>{'META': 836.1553576654543, 'AMZN': 1665.14028...</td>\n",
       "    </tr>\n",
       "    <tr>\n",
       "      <th>2023-07-03</th>\n",
       "      <td>1.389157e+06</td>\n",
       "      <td>{'META': 836.1553576654543, 'AMZN': 1665.14028...</td>\n",
       "    </tr>\n",
       "    <tr>\n",
       "      <th>2023-07-10</th>\n",
       "      <td>1.377999e+06</td>\n",
       "      <td>{'META': 836.1553576654543, 'AMZN': 1665.14028...</td>\n",
       "    </tr>\n",
       "    <tr>\n",
       "      <th>2023-07-17</th>\n",
       "      <td>1.450261e+06</td>\n",
       "      <td>{'META': 836.1553576654543, 'AMZN': 1665.14028...</td>\n",
       "    </tr>\n",
       "    <tr>\n",
       "      <th>2023-07-24</th>\n",
       "      <td>1.422274e+06</td>\n",
       "      <td>{'AMZN': 1665.14028806927, 'WMT': 3881.9875776...</td>\n",
       "    </tr>\n",
       "    <tr>\n",
       "      <th>2023-07-31</th>\n",
       "      <td>1.427586e+06</td>\n",
       "      <td>{'AMZN': 1665.14028806927, 'AAPL': 1031.512713...</td>\n",
       "    </tr>\n",
       "    <tr>\n",
       "      <th>2023-08-07</th>\n",
       "      <td>1.417315e+06</td>\n",
       "      <td>{'AMZN': 1665.14028806927, 'GOOG': 1512.630464...</td>\n",
       "    </tr>\n",
       "    <tr>\n",
       "      <th>2023-08-14</th>\n",
       "      <td>1.400962e+06</td>\n",
       "      <td>{'AMZN': 1665.14028806927, 'GOOG': 1512.630464...</td>\n",
       "    </tr>\n",
       "    <tr>\n",
       "      <th>2023-08-21</th>\n",
       "      <td>1.380820e+06</td>\n",
       "      <td>{'AMZN': 1665.14028806927, 'V': 849.4733265375...</td>\n",
       "    </tr>\n",
       "    <tr>\n",
       "      <th>2023-08-28</th>\n",
       "      <td>1.385100e+06</td>\n",
       "      <td>{'AMZN': 1665.14028806927, 'V': 849.4733265375...</td>\n",
       "    </tr>\n",
       "    <tr>\n",
       "      <th>2023-09-04</th>\n",
       "      <td>1.408179e+06</td>\n",
       "      <td>{'AMZN': 1665.14028806927, 'V': 849.4733265375...</td>\n",
       "    </tr>\n",
       "    <tr>\n",
       "      <th>2023-09-11</th>\n",
       "      <td>1.409383e+06</td>\n",
       "      <td>{'AMZN': 1665.14028806927, 'V': 849.4733265375...</td>\n",
       "    </tr>\n",
       "    <tr>\n",
       "      <th>2023-09-18</th>\n",
       "      <td>1.397472e+06</td>\n",
       "      <td>{'AMZN': 1665.14028806927, 'GOOG': 1539.408866...</td>\n",
       "    </tr>\n",
       "    <tr>\n",
       "      <th>2023-09-25</th>\n",
       "      <td>1.372150e+06</td>\n",
       "      <td>{'WMT': 3740.4151860856555}</td>\n",
       "    </tr>\n",
       "    <tr>\n",
       "      <th>2023-10-02</th>\n",
       "      <td>1.368524e+06</td>\n",
       "      <td>{}</td>\n",
       "    </tr>\n",
       "    <tr>\n",
       "      <th>2023-10-09</th>\n",
       "      <td>1.372397e+06</td>\n",
       "      <td>{'META': 637.0441153049849, 'GOOG': 1450.22115...</td>\n",
       "    </tr>\n",
       "    <tr>\n",
       "      <th>2023-10-16</th>\n",
       "      <td>1.372693e+06</td>\n",
       "      <td>{'META': 637.0441153049849, 'GOOG': 1450.22115...</td>\n",
       "    </tr>\n",
       "    <tr>\n",
       "      <th>2023-10-23</th>\n",
       "      <td>1.355176e+06</td>\n",
       "      <td>{'GOOG': 1450.2211587267059}</td>\n",
       "    </tr>\n",
       "    <tr>\n",
       "      <th>2023-10-30</th>\n",
       "      <td>1.342207e+06</td>\n",
       "      <td>{'MSFT': 614.5337225380243}</td>\n",
       "    </tr>\n",
       "    <tr>\n",
       "      <th>2023-11-06</th>\n",
       "      <td>1.359505e+06</td>\n",
       "      <td>{'MSFT': 614.5337225380243, 'AMZN': 1443.00144...</td>\n",
       "    </tr>\n",
       "    <tr>\n",
       "      <th>2023-11-13</th>\n",
       "      <td>1.390720e+06</td>\n",
       "      <td>{'MSFT': 614.5337225380243, 'AMZN': 1443.00144...</td>\n",
       "    </tr>\n",
       "    <tr>\n",
       "      <th>2023-11-20</th>\n",
       "      <td>1.425372e+06</td>\n",
       "      <td>{'MSFT': 614.5337225380243, 'AMZN': 1443.00144...</td>\n",
       "    </tr>\n",
       "    <tr>\n",
       "      <th>2023-11-27</th>\n",
       "      <td>1.415154e+06</td>\n",
       "      <td>{'MSFT': 614.5337225380243, 'AMZN': 1443.00144...</td>\n",
       "    </tr>\n",
       "    <tr>\n",
       "      <th>2023-12-04</th>\n",
       "      <td>1.409854e+06</td>\n",
       "      <td>{'AMZN': 1443.001443001443, 'JPM': 1355.197181...</td>\n",
       "    </tr>\n",
       "    <tr>\n",
       "      <th>2023-12-11</th>\n",
       "      <td>1.410526e+06</td>\n",
       "      <td>{'AMZN': 1443.001443001443, 'JPM': 1355.197181...</td>\n",
       "    </tr>\n",
       "    <tr>\n",
       "      <th>2023-12-18</th>\n",
       "      <td>1.461089e+06</td>\n",
       "      <td>{'AMZN': 1443.001443001443, 'JPM': 1355.197181...</td>\n",
       "    </tr>\n",
       "    <tr>\n",
       "      <th>2023-12-25</th>\n",
       "      <td>1.454559e+06</td>\n",
       "      <td>{'AMZN': 1443.001443001443, 'JPM': 1355.197181...</td>\n",
       "    </tr>\n",
       "  </tbody>\n",
       "</table>\n",
       "</div>"
      ],
      "text/plain": [
       "                   value                                           holdings\n",
       "date                                                                       \n",
       "2023-01-02  1.000005e+06                        {'JPM': 1590.4572564612326}\n",
       "2023-01-09  1.003821e+06  {'JPM': 1590.4572564612326, 'META': 1545.47562...\n",
       "2023-01-16  1.028453e+06  {'JPM': 1590.4572564612326, 'META': 1545.47562...\n",
       "2023-01-23  1.060083e+06  {'META': 1545.4756201220926, 'V': 935.97903406...\n",
       "2023-01-30  1.061273e+06  {'META': 1545.4756201220926, 'AMZN': 2038.3204...\n",
       "2023-02-06  1.164035e+06  {'META': 1545.4756201220926, 'AMZN': 2038.3204...\n",
       "2023-02-13  1.134493e+06  {'META': 1545.4756201220926, 'AAPL': 1388.3104...\n",
       "2023-02-20  1.137027e+06  {'META': 1545.4756201220926, 'AAPL': 1388.3104...\n",
       "2023-02-27  1.124706e+06  {'META': 1545.4756201220926, 'AAPL': 1388.3104...\n",
       "2023-03-06  1.140001e+06  {'META': 1545.4756201220926, 'AAPL': 1388.3104...\n",
       "2023-03-13  1.087729e+06  {'META': 1545.4756201220926, 'AAPL': 1388.3104...\n",
       "2023-03-20  1.150873e+06  {'META': 1545.4756201220926, 'AAPL': 1388.3104...\n",
       "2023-03-27  1.170277e+06  {'META': 1545.4756201220926, 'AAPL': 1388.3104...\n",
       "2023-04-03  1.218523e+06  {'META': 1545.4756201220926, 'AAPL': 1388.3104...\n",
       "2023-04-10  1.220488e+06  {'META': 1545.4756201220926, 'AAPL': 1388.3104...\n",
       "2023-04-17  1.230849e+06  {'META': 1545.4756201220926, 'AAPL': 1388.3104...\n",
       "2023-04-24  1.224843e+06  {'AAPL': 1388.3104262113009, 'AMZN': 1936.2958...\n",
       "2023-05-01  1.236142e+06  {'AAPL': 1388.3104262113009, 'NVDA': 7380.0738...\n",
       "2023-05-08  1.240859e+06  {'AAPL': 1388.3104262113009, 'NVDA': 7380.0738...\n",
       "2023-05-15  1.259361e+06  {'NVDA': 7380.073800738007, 'MSFT': 662.471016...\n",
       "2023-05-22  1.307398e+06  {'MSFT': 662.471016893011, 'META': 836.1553576...\n",
       "2023-05-29  1.327031e+06  {'MSFT': 662.471016893011, 'META': 836.1553576...\n",
       "2023-06-05  1.352443e+06  {'MSFT': 662.471016893011, 'META': 836.1553576...\n",
       "2023-06-12  1.356564e+06  {'META': 836.1553576654543, 'GOOG': 1894.11876...\n",
       "2023-06-19  1.372535e+06  {'META': 836.1553576654543, 'AMZN': 1665.14028...\n",
       "2023-06-26  1.347894e+06  {'META': 836.1553576654543, 'AMZN': 1665.14028...\n",
       "2023-07-03  1.389157e+06  {'META': 836.1553576654543, 'AMZN': 1665.14028...\n",
       "2023-07-10  1.377999e+06  {'META': 836.1553576654543, 'AMZN': 1665.14028...\n",
       "2023-07-17  1.450261e+06  {'META': 836.1553576654543, 'AMZN': 1665.14028...\n",
       "2023-07-24  1.422274e+06  {'AMZN': 1665.14028806927, 'WMT': 3881.9875776...\n",
       "2023-07-31  1.427586e+06  {'AMZN': 1665.14028806927, 'AAPL': 1031.512713...\n",
       "2023-08-07  1.417315e+06  {'AMZN': 1665.14028806927, 'GOOG': 1512.630464...\n",
       "2023-08-14  1.400962e+06  {'AMZN': 1665.14028806927, 'GOOG': 1512.630464...\n",
       "2023-08-21  1.380820e+06  {'AMZN': 1665.14028806927, 'V': 849.4733265375...\n",
       "2023-08-28  1.385100e+06  {'AMZN': 1665.14028806927, 'V': 849.4733265375...\n",
       "2023-09-04  1.408179e+06  {'AMZN': 1665.14028806927, 'V': 849.4733265375...\n",
       "2023-09-11  1.409383e+06  {'AMZN': 1665.14028806927, 'V': 849.4733265375...\n",
       "2023-09-18  1.397472e+06  {'AMZN': 1665.14028806927, 'GOOG': 1539.408866...\n",
       "2023-09-25  1.372150e+06                        {'WMT': 3740.4151860856555}\n",
       "2023-10-02  1.368524e+06                                                 {}\n",
       "2023-10-09  1.372397e+06  {'META': 637.0441153049849, 'GOOG': 1450.22115...\n",
       "2023-10-16  1.372693e+06  {'META': 637.0441153049849, 'GOOG': 1450.22115...\n",
       "2023-10-23  1.355176e+06                       {'GOOG': 1450.2211587267059}\n",
       "2023-10-30  1.342207e+06                        {'MSFT': 614.5337225380243}\n",
       "2023-11-06  1.359505e+06  {'MSFT': 614.5337225380243, 'AMZN': 1443.00144...\n",
       "2023-11-13  1.390720e+06  {'MSFT': 614.5337225380243, 'AMZN': 1443.00144...\n",
       "2023-11-20  1.425372e+06  {'MSFT': 614.5337225380243, 'AMZN': 1443.00144...\n",
       "2023-11-27  1.415154e+06  {'MSFT': 614.5337225380243, 'AMZN': 1443.00144...\n",
       "2023-12-04  1.409854e+06  {'AMZN': 1443.001443001443, 'JPM': 1355.197181...\n",
       "2023-12-11  1.410526e+06  {'AMZN': 1443.001443001443, 'JPM': 1355.197181...\n",
       "2023-12-18  1.461089e+06  {'AMZN': 1443.001443001443, 'JPM': 1355.197181...\n",
       "2023-12-25  1.454559e+06  {'AMZN': 1443.001443001443, 'JPM': 1355.197181..."
      ]
     },
     "execution_count": 12,
     "metadata": {},
     "output_type": "execute_result"
    }
   ],
   "source": [
    "df"
   ]
  },
  {
   "cell_type": "code",
   "execution_count": 16,
   "id": "58c7d99e-ced2-493e-9c87-c592f8a38cfd",
   "metadata": {},
   "outputs": [
    {
     "data": {
      "text/plain": [
       "{'KERNEX.NS': {'shares': 137.72681885480148,\n",
       "  'entry_price': 1452.15,\n",
       "  'entry_date': datetime.datetime(2024, 12, 16, 0, 0),\n",
       "  'last_price': 1281.75},\n",
       " 'NRAIL.NS': {'shares': 534.4735435595938,\n",
       "  'entry_price': 374.2,\n",
       "  'entry_date': datetime.datetime(2024, 12, 30, 0, 0),\n",
       "  'last_price': 360.20001220703125},\n",
       " 'INDOTHAI.NS': {'shares': 172.94305849798954,\n",
       "  'entry_price': 1156.45,\n",
       "  'entry_date': datetime.datetime(2024, 12, 30, 0, 0),\n",
       "  'last_price': 1214.25},\n",
       " 'MANCREDIT.NS': {'shares': 1333.2444503699753,\n",
       "  'entry_price': 150.01,\n",
       "  'entry_date': datetime.datetime(2024, 12, 30, 0, 0),\n",
       "  'last_price': 151.3000030517578}}"
      ]
     },
     "execution_count": 16,
     "metadata": {},
     "output_type": "execute_result"
    }
   ],
   "source": [
    "backtester.portfolio['holdings']"
   ]
  },
  {
   "cell_type": "code",
   "execution_count": null,
   "id": "d296ce71-524b-43e7-909d-cd066898df77",
   "metadata": {},
   "outputs": [],
   "source": []
  }
 ],
 "metadata": {
  "kernelspec": {
   "display_name": "Python 3 (ipykernel)",
   "language": "python",
   "name": "python3"
  },
  "language_info": {
   "codemirror_mode": {
    "name": "ipython",
    "version": 3
   },
   "file_extension": ".py",
   "mimetype": "text/x-python",
   "name": "python",
   "nbconvert_exporter": "python",
   "pygments_lexer": "ipython3",
   "version": "3.12.7"
  }
 },
 "nbformat": 4,
 "nbformat_minor": 5
}
