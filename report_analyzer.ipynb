{
 "cells": [
  {
   "cell_type": "code",
   "execution_count": 4,
   "id": "b94ab621-3f40-43ba-b99f-14a9c728fdb5",
   "metadata": {},
   "outputs": [],
   "source": [
    "from langchain.document_loaders import PyPDFLoader\n",
    "from langchain.text_splitter import RecursiveCharacterTextSplitter\n",
    "from langchain.vectorstores import FAISS\n",
    "from langchain.chains import RetrievalQA\n",
    "from langchain_community.embeddings import HuggingFaceEmbeddings\n",
    "from langchain_community.llms import Ollama  # or any other free LLM\n",
    "\n",
    "class PDFAnalyzer:\n",
    "    def __init__(self, pdf_path):\n",
    "        self.pdf_path = pdf_path\n",
    "        self.load_document()\n",
    "        self.create_vector_store()\n",
    "        \n",
    "    def load_document(self):\n",
    "        loader = PyPDFLoader(self.pdf_path)\n",
    "        self.pages = loader.load()\n",
    "        text_splitter = RecursiveCharacterTextSplitter(\n",
    "            chunk_size=1000,\n",
    "            chunk_overlap=200\n",
    "        )\n",
    "        self.texts = text_splitter.split_documents(self.pages)\n",
    "        \n",
    "    def create_vector_store(self):\n",
    "        # Using free HuggingFace embeddings\n",
    "        embeddings = HuggingFaceEmbeddings(model_name=\"all-MiniLM-L6-v2\")\n",
    "        self.vectorstore = FAISS.from_documents(self.texts, embeddings)\n",
    "        self.retriever = self.vectorstore.as_retriever()\n",
    "        \n",
    "    def ask_question(self, question):\n",
    "        # Using free LLM (like Ollama with Mistral)\n",
    "        llm = Ollama(model=\"llama3\")\n",
    "        \n",
    "        qa_chain = RetrievalQA.from_chain_type(\n",
    "            llm=llm,\n",
    "            chain_type=\"stuff\",\n",
    "            retriever=self.retriever,\n",
    "            return_source_documents=True\n",
    "        )\n",
    "        result = qa_chain({\"query\": question})\n",
    "        return {\n",
    "            \"answer\": result[\"result\"],\n",
    "            \"sources\": result[\"source_documents\"]\n",
    "        }"
   ]
  },
  {
   "cell_type": "code",
   "execution_count": 6,
   "id": "7659a662-0b96-40ce-865b-4d03b3613916",
   "metadata": {},
   "outputs": [],
   "source": [
    "# Initialize the analyzer\n",
    "analyzer = PDFAnalyzer(\"reliance_24.pdf\")\n",
    "\n"
   ]
  },
  {
   "cell_type": "code",
   "execution_count": 7,
   "id": "bdd4bbfe-539a-4558-9735-177fb4ff5f4b",
   "metadata": {},
   "outputs": [
    {
     "name": "stdout",
     "output_type": "stream",
     "text": [
      "I can help you with that!\n",
      "\n",
      "According to the provided information, Reliance Retail recorded a Gross Revenue of ₹3,06,848 crore for the year FY24 with a growth of 17.8% over last year.\n",
      "\n",
      "As for Digital Services, it achieved a revenue of ₹1,32,938 crore driven by industry-leading subscriber growth in mobility and ramp-up of wireline services leading to better subscriber mix.\n"
     ]
    }
   ],
   "source": [
    "# Ask questions\n",
    "response = analyzer.ask_question(\"What was the revenue growth in the financial year?\")\n",
    "print(response[\"answer\"])\n",
    "\n"
   ]
  },
  {
   "cell_type": "code",
   "execution_count": 9,
   "id": "bbd5cc14-7742-4e1c-9a27-9df192851630",
   "metadata": {},
   "outputs": [
    {
     "name": "stdout",
     "output_type": "stream",
     "text": [
      "I can help with that!\n",
      "\n",
      "Based on the provided context, here is the requested information in a tabular form for both standalone and consolidated financial results:\n",
      "\n",
      "**Standalone Financial Statements**\n",
      "\n",
      "| Financial Result | 2023-24 (in crore) |\n",
      "| --- | --- |\n",
      "| Total Income | - |\n",
      "| Expenses | - |\n",
      "| Tax Expenses | - |\n",
      "| Profit after tax | - |\n",
      "\n",
      "**Consolidated Financial Statements**\n",
      "\n",
      "| Financial Result | 2023-24 (in crore) |\n",
      "| --- | --- |\n",
      "| Total Income | 1,459 |\n",
      "| Expenses | (20) |\n",
      "| Tax Expenses | (251) |\n",
      "| Profit after tax from continuing operations | ? (not provided) |\n",
      "| Profit after tax from discontinued operations | 1,188 |\n",
      "| Adjusted against retained earnings | -23,502 |\n",
      "\n",
      "Note: Some financial results are not provided in the given context, marked as \"?\" or \"not provided\".\n",
      "\n",
      "Please let me know if you have any further questions or concerns!\n"
     ]
    }
   ],
   "source": [
    "response = analyzer.ask_question(\"show the financial result in tabular form, both standalone and consolidated\")\n",
    "print(response[\"answer\"])"
   ]
  },
  {
   "cell_type": "code",
   "execution_count": 15,
   "id": "6514a292-896b-4994-9a1c-99f2ff5a956f",
   "metadata": {},
   "outputs": [
    {
     "name": "stdout",
     "output_type": "stream",
     "text": [
      "[]\n"
     ]
    }
   ],
   "source": [
    "import yfinance as yf\n",
    "\n",
    "# Create a Ticker object for the stock\n",
    "ticker = yf.Ticker(\"JIOFIN.NS\")  # Apple example\n",
    "\n",
    "# Get news related to this ticker\n",
    "news = ticker.news\n",
    "print(news)"
   ]
  },
  {
   "cell_type": "code",
   "execution_count": 12,
   "id": "9f90eb49-e471-4bea-b8c1-b0dc34b958c4",
   "metadata": {},
   "outputs": [
    {
     "name": "stdout",
     "output_type": "stream",
     "text": [
      "[{'uuid': '46c80348-d069-3d78-9866-f75f7c475e1c', 'title': 'Jio Financial Services Ltd (BOM:543940) Q4 2025 Earnings Call Highlights: Record Income Growth ...', 'publisher': 'GuruFocus.com', 'link': 'https://finance.yahoo.com/news/jio-financial-services-ltd-bom-070252039.html', 'providerPublishTime': 1744959772, 'type': 'STORY'}]\n"
     ]
    }
   ],
   "source": [
    "import yfinance as yf\n",
    "\n",
    "# Search for news related to a query (can be company name or ticker)\n",
    "search_results = yf.Search(\"jio finance\", news_count=5).news\n",
    "print(search_results)"
   ]
  },
  {
   "cell_type": "code",
   "execution_count": null,
   "id": "10aecc54-4fe3-413a-9f77-1eab30dc0ced",
   "metadata": {},
   "outputs": [],
   "source": []
  }
 ],
 "metadata": {
  "kernelspec": {
   "display_name": "Python 3 (ipykernel)",
   "language": "python",
   "name": "python3"
  },
  "language_info": {
   "codemirror_mode": {
    "name": "ipython",
    "version": 3
   },
   "file_extension": ".py",
   "mimetype": "text/x-python",
   "name": "python",
   "nbconvert_exporter": "python",
   "pygments_lexer": "ipython3",
   "version": "3.12.7"
  }
 },
 "nbformat": 4,
 "nbformat_minor": 5
}
